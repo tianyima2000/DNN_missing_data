{
 "cells": [
  {
   "cell_type": "code",
   "execution_count": null,
   "metadata": {},
   "outputs": [],
   "source": [
    "import numpy as np\n",
    "import pandas as pd\n",
    "import warnings\n",
    "import pickle\n",
    "import random\n",
    "\n",
    "from missforest.missforest import MissForest\n",
    "from sklearn.ensemble import RandomForestRegressor\n",
    "from sklearn.experimental import enable_iterative_imputer\n",
    "from sklearn.impute import IterativeImputer\n",
    "from sklearn.preprocessing import StandardScaler"
   ]
  },
  {
   "cell_type": "code",
   "execution_count": null,
   "metadata": {},
   "outputs": [],
   "source": [
    "# Set seed for Python's random module\n",
    "random.seed(2025)\n",
    "# Set seed for NumPy\n",
    "np.random.seed(2025)"
   ]
  },
  {
   "cell_type": "code",
   "execution_count": null,
   "metadata": {},
   "outputs": [],
   "source": [
    "# Read data\n",
    "train_data = pd.read_csv(\"CreditScore_train.csv\")\n",
    "test_data = pd.read_csv(\"CreditScore_test.csv\")"
   ]
  },
  {
   "cell_type": "code",
   "execution_count": null,
   "metadata": {},
   "outputs": [],
   "source": [
    "Z = pd.concat([train_data.iloc[:,0:304], test_data.iloc[:,0:304]], ignore_index=True)\n",
    "Y = pd.concat([train_data.iloc[:,304], test_data.iloc[:,304]], ignore_index=True)\n",
    "Omega = 1 - Z.isna()"
   ]
  },
  {
   "cell_type": "code",
   "execution_count": null,
   "metadata": {},
   "outputs": [],
   "source": [
    "# Indices for 72000 training data, 8000 validation data and 20000 testing data\n",
    "val_ind = np.random.choice(range(80000), size=8000, replace=False)\n",
    "train_ind = [i for i in range(80000) if i not in val_ind]\n",
    "test_ind = range(80000, 100000)"
   ]
  },
  {
   "cell_type": "code",
   "execution_count": null,
   "metadata": {},
   "outputs": [],
   "source": [
    "Y_train = Y[train_ind]\n",
    "Y_val = Y[val_ind]\n",
    "Y_test = Y[test_ind]\n",
    "\n",
    "Omega_train = Omega.iloc[train_ind,:]\n",
    "Omega_val = Omega.iloc[val_ind,:]\n",
    "Omega_test = Omega.iloc[test_ind,:]"
   ]
  },
  {
   "cell_type": "code",
   "execution_count": null,
   "metadata": {},
   "outputs": [],
   "source": [
    "# Standardise Z\n",
    "scaler = StandardScaler()\n",
    "Z = pd.DataFrame(scaler.fit_transform(Z), columns=Z.columns)"
   ]
  },
  {
   "cell_type": "code",
   "execution_count": null,
   "metadata": {},
   "outputs": [],
   "source": [
    "# Zero imputation\n",
    "Z_ZI = Z.fillna(0)\n",
    "Z_ZI_train = Z_ZI.iloc[train_ind,:]\n",
    "Z_ZI_val = Z_ZI.iloc[val_ind,:]\n",
    "Z_ZI_test = Z_ZI.iloc[test_ind,:]"
   ]
  },
  {
   "cell_type": "code",
   "execution_count": null,
   "metadata": {},
   "outputs": [],
   "source": [
    "# Missforest imputation\n",
    "mf_imputer = MissForest(RandomForestRegressor(n_estimators=10, n_jobs=-1), early_stopping=True)\n",
    "Z_MF = mf_imputer.fit_transform(Z)\n",
    "Z_MF_train = Z_MF.iloc[train_ind,:]\n",
    "Z_MF_val = Z_MF.iloc[val_ind,:]\n",
    "Z_MF_test = Z_MF.iloc[test_ind,:]"
   ]
  },
  {
   "cell_type": "code",
   "execution_count": null,
   "metadata": {},
   "outputs": [],
   "source": [
    "# Mice imputation\n",
    "mice_imputer = IterativeImputer(max_iter=5)\n",
    "Z_MICE = pd.DataFrame(mice_imputer.fit_transform(Z), columns=Z.columns)\n",
    "Z_MICE_train = Z_MICE.iloc[train_ind,:]\n",
    "Z_MICE_val = Z_MICE.iloc[val_ind,:]\n",
    "Z_MICE_test = Z_MICE.iloc[test_ind,:]"
   ]
  },
  {
   "cell_type": "code",
   "execution_count": null,
   "metadata": {},
   "outputs": [],
   "source": [
    "# Store the data in credit_score_data.pkl\n",
    "credit_score_data = {'Z_ZI_train': Z_ZI_train,\n",
    "                     'Z_ZI_val': Z_ZI_val,\n",
    "                     'Z_ZI_test': Z_ZI_test,\n",
    "                     'Z_MF_train': Z_MF_train,\n",
    "                     'Z_MF_val': Z_MF_val,\n",
    "                     'Z_MF_test': Z_MF_test,\n",
    "                     'Z_MICE_train': Z_MICE_train,\n",
    "                     'Z_MICE_val': Z_MICE_val,\n",
    "                     'Z_MICE_test': Z_MICE_test,\n",
    "                     'Omega_train': Omega_train,\n",
    "                     'Omega_val': Omega_val,\n",
    "                     'Omega_test': Omega_test,\n",
    "                     'Y_train': Y_train,\n",
    "                     'Y_val': Y_val,\n",
    "                     'Y_test': Y_test}\n",
    "\n",
    "with open(\"credit_score_data.pkl\", \"wb\") as f:\n",
    "    pickle.dump(credit_score_data, f)"
   ]
  }
 ],
 "metadata": {
  "kernelspec": {
   "display_name": "Python 3",
   "language": "python",
   "name": "python3"
  },
  "language_info": {
   "codemirror_mode": {
    "name": "ipython",
    "version": 3
   },
   "file_extension": ".py",
   "mimetype": "text/x-python",
   "name": "python",
   "nbconvert_exporter": "python",
   "pygments_lexer": "ipython3",
   "version": "3.13.2"
  }
 },
 "nbformat": 4,
 "nbformat_minor": 2
}
