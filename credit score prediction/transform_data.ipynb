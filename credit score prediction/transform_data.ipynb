{
 "cells": [
  {
   "cell_type": "code",
   "execution_count": null,
   "metadata": {},
   "outputs": [],
   "source": [
    "import numpy as np\n",
    "import pandas as pd\n",
    "import warnings\n",
    "import pickle\n",
    "import random\n",
    "\n",
    "from missforest.missforest import MissForest\n",
    "from sklearn.ensemble import RandomForestRegressor\n",
    "from sklearn.experimental import enable_iterative_imputer\n",
    "from sklearn.impute import IterativeImputer\n",
    "from sklearn.preprocessing import StandardScaler"
   ]
  },
  {
   "cell_type": "code",
   "execution_count": null,
   "metadata": {},
   "outputs": [],
   "source": [
    "# Set seed for Python's random module\n",
    "random.seed(42)\n",
    "# Set seed for NumPy\n",
    "np.random.seed(42)"
   ]
  },
  {
   "cell_type": "code",
   "execution_count": null,
   "metadata": {},
   "outputs": [],
   "source": [
    "# Read data\n",
    "train_data = pd.read_csv(\"C:/Users/mttyy/Desktop/DNN missing data/credit_score_prediction/CreditScore_train.csv\")\n",
    "test_data = pd.read_csv(\"C:/Users/mttyy/Desktop/DNN missing data/credit_score_prediction/CreditScore_test.csv\")"
   ]
  },
  {
   "cell_type": "code",
   "execution_count": null,
   "metadata": {},
   "outputs": [],
   "source": [
    "Z = pd.concat([train_data.iloc[:,0:304], test_data.iloc[:,0:304]], ignore_index=True)\n",
    "Y = pd.concat([train_data.iloc[:,304], test_data.iloc[:,304]], ignore_index=True)\n",
    "Omega = Z.notna()"
   ]
  },
  {
   "cell_type": "code",
   "execution_count": null,
   "metadata": {},
   "outputs": [],
   "source": [
    "# Mean imputation\n",
    "Z_MI = Z.fillna(Z.mean())\n",
    "scaler = StandardScaler()\n",
    "Z_MI = pd.DataFrame(scaler.fit_transform(Z_MI), columns=Z_MI.columns)"
   ]
  },
  {
   "cell_type": "code",
   "execution_count": null,
   "metadata": {},
   "outputs": [],
   "source": [
    "# Missforest imputation\n",
    "MF_imputer = MissForest(RandomForestRegressor(n_estimators=10, n_jobs=-1), early_stopping=True)\n",
    "Z_MF = MF_imputer.fit_transform(Z)\n",
    "scaler = StandardScaler()\n",
    "Z_MF = pd.DataFrame(scaler.fit_transform(Z_MF), columns=Z_MF.columns)"
   ]
  },
  {
   "cell_type": "code",
   "execution_count": null,
   "metadata": {},
   "outputs": [],
   "source": [
    "# Iterative imputer\n",
    "II_imputer = IterativeImputer(max_iter=5, n_nearest_features=100)\n",
    "Z_II = II_imputer.fit_transform(Z)\n",
    "scaler = StandardScaler()\n",
    "Z_II = pd.DataFrame(scaler.fit_transform(Z_II), columns=Z.columns)"
   ]
  },
  {
   "cell_type": "code",
   "execution_count": null,
   "metadata": {},
   "outputs": [],
   "source": [
    "# Store the data in credit_score_data.pkl\n",
    "credit_score_data = {'Z_MI': Z_MI,\n",
    "                     'Z_MF': Z_MF,\n",
    "                     'Z_II': Z_II,\n",
    "                     'Omega': Omega,\n",
    "                     'Y': Y}\n",
    "\n",
    "with open(\"C:/Users/mttyy/Desktop/DNN missing data/credit_score_prediction/credit_score_data.pkl\", \"wb\") as f:\n",
    "    pickle.dump(credit_score_data, f)"
   ]
  }
 ],
 "metadata": {
  "kernelspec": {
   "display_name": "Python 3",
   "language": "python",
   "name": "python3"
  },
  "language_info": {
   "codemirror_mode": {
    "name": "ipython",
    "version": 3
   },
   "file_extension": ".py",
   "mimetype": "text/x-python",
   "name": "python",
   "nbconvert_exporter": "python",
   "pygments_lexer": "ipython3",
   "version": "3.12.6"
  }
 },
 "nbformat": 4,
 "nbformat_minor": 2
}
