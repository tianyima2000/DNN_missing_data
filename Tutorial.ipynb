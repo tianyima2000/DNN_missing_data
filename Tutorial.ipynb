{
 "cells": [
  {
   "cell_type": "code",
   "execution_count": 127,
   "metadata": {},
   "outputs": [],
   "source": [
    "import numpy as np\n",
    "import matplotlib.pyplot as plt\n",
    "import torch\n",
    "import random\n",
    "\n",
    "%matplotlib inline\n",
    "from IPython.display import clear_output\n",
    "\n",
    "import torch.nn as nn\n",
    "from torch import optim\n",
    "from torch.utils.data import TensorDataset, DataLoader\n",
    "import torch.nn.utils.prune as prune"
   ]
  },
  {
   "cell_type": "code",
   "execution_count": 128,
   "metadata": {},
   "outputs": [
    {
     "data": {
      "text/plain": [
       "<torch._C.Generator at 0x179af9dc410>"
      ]
     },
     "execution_count": 128,
     "metadata": {},
     "output_type": "execute_result"
    }
   ],
   "source": [
    "# Set seed for Python's random module\n",
    "random.seed(2025)\n",
    "# Set seed for NumPy\n",
    "np.random.seed(2025)\n",
    "# Set seed for PyTorch\n",
    "torch.manual_seed(2025)"
   ]
  },
  {
   "cell_type": "code",
   "execution_count": 129,
   "metadata": {},
   "outputs": [],
   "source": [
    "\"\"\"\n",
    "The following function globally prunes all weights (not including the bias vectors) \n",
    "in nn.Linear layers in the model using L1 unstructured pruning,\n",
    "reinitializes the surviving weights using Kaiming uniform initialization,\n",
    "and installs a forward pre-hook to enforce that the pruned weights remain zero.\n",
    "\n",
    "Inputs:\n",
    "    model (nn.Module): The model to prune.\n",
    "    amount (float): Fraction of weights to prune globally (e.g., 0.8 for 80%).\n",
    "\n",
    "Output: The pruned model.\n",
    "\"\"\"\n",
    "def global_prune(model, amount):\n",
    "    # Collect all Linear layers and their weights\n",
    "    parameters_to_prune = [\n",
    "        (module, 'weight') \n",
    "        for module in model.modules()\n",
    "        if isinstance(module, nn.Linear)\n",
    "    ]\n",
    "\n",
    "    # Perform global L1 unstructured pruning\n",
    "    prune.global_unstructured(\n",
    "        parameters_to_prune,\n",
    "        pruning_method=prune.L1Unstructured,\n",
    "        amount=amount,\n",
    "    )\n",
    "\n",
    "    # Process each pruned layer\n",
    "    for module, param_name in parameters_to_prune:\n",
    "        # Extract and store mask as buffer\n",
    "        mask = getattr(module, f\"{param_name}_mask\").clone()\n",
    "        module.register_buffer(\"pruning_mask\", mask)\n",
    "        \n",
    "        # Reinitialize unpruned weights while preserving zeros\n",
    "        with torch.no_grad():\n",
    "            # Get current weights (already pruned)\n",
    "            weight = getattr(module, param_name)\n",
    "            \n",
    "            # Create new initialization\n",
    "            new_weights = torch.empty_like(weight)\n",
    "            nn.init.kaiming_uniform_(new_weights, mode='fan_in', nonlinearity='relu')\n",
    "            \n",
    "            # Apply mask and update weights\n",
    "            weight.data.copy_(new_weights * mask)\n",
    "\n",
    "        # Remove PyTorch's pruning buffers\n",
    "        prune.remove(module, param_name)\n",
    "\n",
    "    # Register forward pre-hook to maintain pruning\n",
    "    def apply_mask(module, inputs):\n",
    "        if hasattr(module, \"pruning_mask\"):\n",
    "            mask = module.pruning_mask\n",
    "            with torch.no_grad():\n",
    "                module.weight.data.mul_(mask)  # In-place multiplication\n",
    "\n",
    "    # Add hooks to all pruned modules\n",
    "    for module, _ in parameters_to_prune:\n",
    "        if hasattr(module, \"pruning_mask\"):\n",
    "            module.register_forward_pre_hook(apply_mask)\n",
    "\n",
    "    return model"
   ]
  },
  {
   "cell_type": "code",
   "execution_count": 130,
   "metadata": {},
   "outputs": [],
   "source": [
    "n = 2*10**4    # This includes training data, validationm data and testing data. \n",
    "d = 20\n",
    "sigma = 0.5\n",
    "\n",
    "# Define regression function\n",
    "def reg_func(x):\n",
    "    y = np.exp(x[1] + x[2]) + 4 * x[3]**2    # X unif[-1,1], Bayes risk approx 1.448286 + sigma^2\n",
    "    return y\n",
    "\n",
    "# Generate X and Y\n",
    "X = np.random.uniform(-1 , 1, (n, d))\n",
    "epsilon = np.random.normal(0, sigma, n)\n",
    "Y = np.zeros(n)\n",
    "for i in range(n):\n",
    "    Y[i] = reg_func(X[i,:]) + epsilon[i]\n",
    "\n",
    "# Generate Omega, which has iid Ber(0.5) coordinates, independent of X\n",
    "Omega = np.random.binomial(1, 0.5, (n, d))\n",
    "Z_ZI = X * Omega"
   ]
  },
  {
   "cell_type": "code",
   "execution_count": 131,
   "metadata": {},
   "outputs": [],
   "source": [
    "# Split data into 50% training data, 25% validation data, 25% testing data\n",
    "Z_ZI_train = Z_ZI[0:int(n/2), :]\n",
    "Z_ZI_val = Z_ZI[int(n/2):int(3*n/4), :]\n",
    "Z_ZI_test = Z_ZI[int(3*n/4):n, :]\n",
    "Omega_train = Omega[0:int(n/2), :]\n",
    "Omega_val = Omega[int(n/2):int(3*n/4), :]\n",
    "Omega_test = Omega[int(3*n/4):n, :]\n",
    "Y_train = Y[0:int(n/2)]\n",
    "Y_val = Y[int(n/2):int(3*n/4)]\n",
    "Y_test = Y[int(3*n/4):n]\n",
    "\n",
    "# Convert data into tensors\n",
    "Z_ZI_train = torch.tensor(Z_ZI_train, dtype=torch.float32)\n",
    "Z_ZI_val = torch.tensor(Z_ZI_val, dtype=torch.float32)\n",
    "Z_ZI_test = torch.tensor(Z_ZI_test, dtype=torch.float32)\n",
    "Omega_train = torch.tensor(Omega_train, dtype=torch.float32)\n",
    "Omega_val = torch.tensor(Omega_val, dtype=torch.float32)\n",
    "Omega_test = torch.tensor(Omega_test, dtype=torch.float32)\n",
    "Y_train = torch.tensor(Y_train.reshape(-1, 1), dtype=torch.float32)\n",
    "Y_val = torch.tensor(Y_val.reshape(-1, 1), dtype=torch.float32)\n",
    "Y_test = torch.tensor(Y_test.reshape(-1, 1), dtype=torch.float32)"
   ]
  },
  {
   "cell_type": "code",
   "execution_count": 132,
   "metadata": {},
   "outputs": [],
   "source": [
    "# Define the class of Pattern Embedding Neural Networks (PENN)\n",
    "class PENN(nn.Module):\n",
    "    def __init__(self):\n",
    "        super().__init__()\n",
    "        embedding_dim = 5\n",
    "        \n",
    "        # Construct the neural network f2\n",
    "        self.f2 = nn.Sequential(\n",
    "            nn.Linear(d, 70),  \n",
    "            nn.ReLU(),\n",
    "            nn.Linear(70, 70), \n",
    "            nn.ReLU(),\n",
    "            nn.Linear(70, 70), \n",
    "            nn.ReLU()\n",
    "        )\n",
    "\n",
    "        # Construct the neural network f3, i.e. the embedding function\n",
    "        self.f3 = nn.Sequential(\n",
    "            nn.Linear(d, 30),  \n",
    "            nn.ReLU(),\n",
    "            nn.Linear(30, 30),  \n",
    "            nn.ReLU(),\n",
    "            nn.Linear(30, 30),  \n",
    "            nn.ReLU(),\n",
    "            nn.Linear(30, embedding_dim)\n",
    "        )\n",
    "\n",
    "        \n",
    "        # Construct the neural network f1\n",
    "        self.f1 = nn.Sequential(\n",
    "            nn.Linear(70 + embedding_dim, 70),\n",
    "            nn.ReLU(),\n",
    "            nn.Linear(70, 70),\n",
    "            nn.ReLU(),\n",
    "            nn.Linear(70, 70),\n",
    "            nn.ReLU(),\n",
    "            nn.Linear(70, 1)  \n",
    "        )\n",
    "    \n",
    "    # Combine f1, f2 and f3 to construct the Pattern Embedding Neural Network\n",
    "    def forward(self, z, omega):\n",
    "        # Compute the output of f2 and f3\n",
    "        f2_output = self.f2(z)\n",
    "        f3_output = self.f3(omega)\n",
    "        \n",
    "        # Concatenate the output of f2 and f3\n",
    "        combined_features = torch.cat((f2_output, f3_output), dim=1)\n",
    "        \n",
    "        # Apply the combined network\n",
    "        final_output = self.f1(combined_features)\n",
    "        \n",
    "        return final_output"
   ]
  },
  {
   "cell_type": "code",
   "execution_count": 133,
   "metadata": {},
   "outputs": [
    {
     "data": {
      "image/png": "[encoded data removed]",
      "text/plain": [
       "<Figure size 800x500 with 1 Axes>"
      ]
     },
     "metadata": {},
     "output_type": "display_data"
    },
    {
     "name": "stdout",
     "output_type": "stream",
     "text": [
      "Early stopping triggered at epoch 35.\n",
      "Excess risk: 0.010345697402954102\n"
     ]
    }
   ],
   "source": [
    "lr = 0.001\n",
    "epochs = 100\n",
    "patience = 10\n",
    "weight_decay = 0.001\n",
    "\n",
    "model_PENN = PENN()\n",
    "PENN_train_data = TensorDataset(Z_ZI_train, Omega_train, Y_train)\n",
    "PENN_train_loader = DataLoader(dataset = PENN_train_data, batch_size=200, shuffle=True)\n",
    "\n",
    "optimizer = optim.Adam(model_PENN.parameters(), lr=lr, weight_decay=weight_decay)\n",
    "loss_fn = nn.MSELoss()\n",
    "\n",
    "train_losses = []\n",
    "val_losses = []\n",
    "\n",
    "for epoch in range(epochs):\n",
    "\n",
    "    model_PENN.train()\n",
    "    if epoch == 10:\n",
    "        model_PENN = global_prune(model_PENN, amount = 0.9)\n",
    "        optimizer = optim.Adam(model_PENN.parameters(), lr=lr)\n",
    "    for z_batch, omega_batch, y_batch in PENN_train_loader:\n",
    "        optimizer.zero_grad()\n",
    "        pred = model_PENN(z_batch, omega_batch)\n",
    "        loss = loss_fn(pred, y_batch)\n",
    "        loss.backward()\n",
    "        optimizer.step()\n",
    "        \n",
    "    # Record training and validation losses\n",
    "    model_PENN.eval()\n",
    "    with torch.no_grad():\n",
    "        train_losses.append(loss_fn(model_PENN(Z_ZI_train, Omega_train), Y_train))\n",
    "        val_losses.append(loss_fn(model_PENN(Z_ZI_val, Omega_val), Y_val))\n",
    "\n",
    "    # Live plotting (Jupyter only)\n",
    "    clear_output(wait=True)  \n",
    "    plt.figure(figsize=(8, 5))\n",
    "    plt.plot(range(1,epoch+2), train_losses, label='Training Loss')\n",
    "    plt.plot(range(1,epoch+2), val_losses, label='Validation Loss')\n",
    "    plt.title(f'Epoch {epoch+1}/{epochs}')\n",
    "    plt.xlabel('Epoch')\n",
    "    plt.ylabel('Loss')\n",
    "    plt.legend()\n",
    "    plt.show()\n",
    "\n",
    "    # Early stopping\n",
    "    if epoch >= 10:\n",
    "        min_index = val_losses.index(min(val_losses[10:]))\n",
    "        if epoch - min_index >= patience:\n",
    "            print(f'Early stopping triggered at epoch {epoch+1}.')\n",
    "            break\n",
    " \n",
    "\n",
    "# Print excess risk, i.e. testing loss - bayes risk\n",
    "model_PENN.eval()\n",
    "print(f'Excess risk: {loss_fn(model_PENN(Z_ZI_test, Omega_test), Y_test) - 1.448 - sigma**2}')"
   ]
  },
  {
   "cell_type": "code",
   "execution_count": 134,
   "metadata": {},
   "outputs": [
    {
     "name": "stdout",
     "output_type": "stream",
     "text": [
      "tensor(0.1158)\n"
     ]
    }
   ],
   "source": [
    "# Check sparsity\n",
    "l0_norm = 0\n",
    "for param in model_PENN.parameters():\n",
    "    l0_norm += torch.sum(param != 0)\n",
    "total_param = sum(p.numel() for p in model_PENN.parameters())\n",
    "print(l0_norm/total_param)"
   ]
  },
  {
   "cell_type": "code",
   "execution_count": null,
   "metadata": {},
   "outputs": [],
   "source": []
  }
 ],
 "metadata": {
  "kernelspec": {
   "display_name": "Python 3",
   "language": "python",
   "name": "python3"
  },
  "language_info": {
   "codemirror_mode": {
    "name": "ipython",
    "version": 3
   },
   "file_extension": ".py",
   "mimetype": "text/x-python",
   "name": "python",
   "nbconvert_exporter": "python",
   "pygments_lexer": "ipython3",
   "version": "3.13.2"
  }
 },
 "nbformat": 4,
 "nbformat_minor": 2
}
