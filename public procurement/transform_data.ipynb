{
 "cells": [
  {
   "cell_type": "code",
   "execution_count": null,
   "metadata": {},
   "outputs": [],
   "source": [
    "import numpy as np\n",
    "import pandas as pd\n",
    "import warnings\n",
    "import pickle\n",
    "import arff    # this is liac-arff package, use pip install liac-arff; make sure that the arff package is not installed (use pip uninstall arff)\n",
    "import random\n",
    "\n",
    "from missforest.missforest import MissForest\n",
    "from sklearn.ensemble import RandomForestRegressor\n",
    "from sklearn.experimental import enable_iterative_imputer\n",
    "from sklearn.impute import IterativeImputer\n",
    "from sklearn.preprocessing import StandardScaler"
   ]
  },
  {
   "cell_type": "code",
   "execution_count": null,
   "metadata": {},
   "outputs": [],
   "source": [
    "# Set seed for Python's random module\n",
    "random.seed(42)\n",
    "# Set seed for NumPy\n",
    "np.random.seed(42)"
   ]
  },
  {
   "cell_type": "code",
   "execution_count": null,
   "metadata": {},
   "outputs": [],
   "source": [
    "with open(\"dataset.arff\", 'r', encoding=\"utf-8\") as f:\n",
    "    dataset = arff.load(f)\n",
    "\n",
    "df = pd.DataFrame(dataset['data'], columns=[attr[0] for attr in dataset['attributes']])"
   ]
  },
  {
   "cell_type": "code",
   "execution_count": null,
   "metadata": {},
   "outputs": [],
   "source": [
    "Y = df['award_value_euro']\n",
    "Y = np.log(Y - np.min(Y) + 1)\n",
    "\n",
    "df_numerical = df.select_dtypes(include=['number'])\n",
    "Z = df_numerical.drop('award_value_euro', axis=1)\n",
    "Omega = Z.notna()"
   ]
  },
  {
   "cell_type": "code",
   "execution_count": null,
   "metadata": {},
   "outputs": [],
   "source": [
    "# Mean imputation\n",
    "Z_MI = Z.fillna(Z.mean())\n",
    "scaler = StandardScaler()\n",
    "Z_MI = pd.DataFrame(scaler.fit_transform(Z_MI), columns=Z_MI.columns)"
   ]
  },
  {
   "cell_type": "code",
   "execution_count": null,
   "metadata": {},
   "outputs": [],
   "source": [
    "# Missforest imputation\n",
    "MF_imputer = MissForest(RandomForestRegressor(n_estimators=10, n_jobs=-1), early_stopping=True)\n",
    "Z_MF = MF_imputer.fit_transform(Z)\n",
    "scaler = StandardScaler()\n",
    "Z_MF = pd.DataFrame(scaler.fit_transform(Z_MF), columns=Z_MF.columns)"
   ]
  },
  {
   "cell_type": "code",
   "execution_count": null,
   "metadata": {},
   "outputs": [],
   "source": [
    "# Iterative imputer\n",
    "II_imputer = IterativeImputer(max_iter=5)\n",
    "Z_II = II_imputer.fit_transform(Z)\n",
    "scaler = StandardScaler()\n",
    "Z_II = pd.DataFrame(scaler.fit_transform(Z_II), columns=Z.columns)"
   ]
  },
  {
   "cell_type": "code",
   "execution_count": null,
   "metadata": {},
   "outputs": [],
   "source": [
    "# Store the data in public_procurement_data.pkl\n",
    "public_procurement_data = {'Z_MI': Z_MI,\n",
    "                     'Z_MF': Z_MF,\n",
    "                     'Z_II': Z_II,\n",
    "                     'Omega': Omega,\n",
    "                     'Y': Y}\n",
    "\n",
    "with open(\"C:/Users/marti/Desktop/DNN_missing_data/public_procurement/public_procurement_data.pkl\", \"wb\") as f:\n",
    "    pickle.dump(public_procurement_data, f)"
   ]
  },
  {
   "cell_type": "code",
   "execution_count": null,
   "metadata": {},
   "outputs": [],
   "source": []
  }
 ],
 "metadata": {
  "kernelspec": {
   "display_name": "Python 3",
   "language": "python",
   "name": "python3"
  },
  "language_info": {
   "codemirror_mode": {
    "name": "ipython",
    "version": 3
   },
   "file_extension": ".py",
   "mimetype": "text/x-python",
   "name": "python",
   "nbconvert_exporter": "python",
   "pygments_lexer": "ipython3",
   "version": "3.13.2"
  }
 },
 "nbformat": 4,
 "nbformat_minor": 2
}
