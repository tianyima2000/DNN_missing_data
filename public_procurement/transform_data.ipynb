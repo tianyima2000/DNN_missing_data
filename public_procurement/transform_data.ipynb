{
 "cells": [
  {
   "cell_type": "code",
   "execution_count": 1,
   "metadata": {},
   "outputs": [],
   "source": [
    "import numpy as np\n",
    "import pandas as pd\n",
    "import warnings\n",
    "import pickle\n",
    "import arff\n",
    "import random\n",
    "\n",
    "from missforest.missforest import MissForest\n",
    "from sklearn.ensemble import RandomForestRegressor\n",
    "from sklearn.experimental import enable_iterative_imputer\n",
    "from sklearn.impute import IterativeImputer\n",
    "from sklearn.preprocessing import StandardScaler"
   ]
  },
  {
   "cell_type": "code",
   "execution_count": 2,
   "metadata": {},
   "outputs": [],
   "source": [
    "# Set seed for Python's random module\n",
    "random.seed(42)\n",
    "# Set seed for NumPy\n",
    "np.random.seed(42)"
   ]
  },
  {
   "cell_type": "code",
   "execution_count": 3,
   "metadata": {},
   "outputs": [],
   "source": [
    "with open(\"C:/Users/marti/Desktop/DNN_missing_data/public_procurement/dataset.arff\", 'r', encoding=\"utf-8\") as f:\n",
    "    dataset = arff.load(f)\n",
    "\n",
    "df = pd.DataFrame(dataset['data'], columns=[attr[0] for attr in dataset['attributes']])"
   ]
  },
  {
   "cell_type": "code",
   "execution_count": 4,
   "metadata": {},
   "outputs": [],
   "source": [
    "Y = df['award_value_euro']\n",
    "Y = np.log(Y - np.min(Y) + 1)\n",
    "\n",
    "df_numerical = df.select_dtypes(include=['number'])\n",
    "Z = df_numerical.drop('award_value_euro', axis=1)\n",
    "Omega = Z.notna()"
   ]
  },
  {
   "cell_type": "code",
   "execution_count": 5,
   "metadata": {},
   "outputs": [],
   "source": [
    "# Mean imputation\n",
    "Z_MI = Z.fillna(Z.mean())\n",
    "scaler = StandardScaler()\n",
    "Z_MI = pd.DataFrame(scaler.fit_transform(Z_MI), columns=Z_MI.columns)"
   ]
  },
  {
   "cell_type": "code",
   "execution_count": 6,
   "metadata": {},
   "outputs": [
    {
     "name": "stderr",
     "output_type": "stream",
     "text": [
      "c:\\Users\\marti\\AppData\\Local\\Programs\\Python\\Python313\\Lib\\site-packages\\missforest\\missforest.py:333: UserWarning: Label encoding is no longer performed by default. Users will have to perform categorical features encoding by themselves.\n",
      "  warnings.warn(\"Label encoding is no longer performed by default. \"\n",
      " 40%|████      | 2/5 [01:58<03:00, 60.25s/it]c:\\Users\\marti\\AppData\\Local\\Programs\\Python\\Python313\\Lib\\site-packages\\missforest\\missforest.py:303: UserWarning: NRMSE increased.\n",
      "  warnings.warn(\"NRMSE increased.\")\n",
      "c:\\Users\\marti\\AppData\\Local\\Programs\\Python\\Python313\\Lib\\site-packages\\missforest\\missforest.py:453: UserWarning: Stopping criterion triggered during fitting. Before last imputation matrix will be returned.\n",
      "  warnings.warn(\n",
      " 40%|████      | 2/5 [03:03<04:34, 91.59s/it]\n",
      "c:\\Users\\marti\\AppData\\Local\\Programs\\Python\\Python313\\Lib\\site-packages\\missforest\\missforest.py:490: UserWarning: Label encoding is no longer performed by default. Users will have to perform categorical features encoding by themselves.\n",
      "  warnings.warn(\"Label encoding is no longer performed by default. \"\n",
      "c:\\Users\\marti\\AppData\\Local\\Programs\\Python\\Python313\\Lib\\site-packages\\missforest\\missforest.py:494: UserWarning: In version 4.2.3, estimator fitting process is moved to `fit` method. `MissForest` will now imputes unseen missing values with fitted estimators with `transform` method. To retain the old behaviour, use `fit_transform` to fit the whole unseen data instead.\n",
      "  warnings.warn(f\"In version {VERSION}, estimator fitting process \"\n",
      "100%|██████████| 2/2 [00:13<00:00,  6.86s/it]\n"
     ]
    }
   ],
   "source": [
    "# Missforest imputation\n",
    "MF_imputer = MissForest(RandomForestRegressor(n_estimators=10, n_jobs=-1), early_stopping=True)\n",
    "Z_MF = MF_imputer.fit_transform(Z)\n",
    "scaler = StandardScaler()\n",
    "Z_MF = pd.DataFrame(scaler.fit_transform(Z_MF), columns=Z_MF.columns)"
   ]
  },
  {
   "cell_type": "code",
   "execution_count": 7,
   "metadata": {},
   "outputs": [
    {
     "name": "stderr",
     "output_type": "stream",
     "text": [
      "c:\\Users\\marti\\AppData\\Local\\Programs\\Python\\Python313\\Lib\\site-packages\\sklearn\\impute\\_iterative.py:895: ConvergenceWarning: [IterativeImputer] Early stopping criterion not reached.\n",
      "  warnings.warn(\n"
     ]
    }
   ],
   "source": [
    "# Iterative imputer\n",
    "II_imputer = IterativeImputer(max_iter=5)\n",
    "Z_II = II_imputer.fit_transform(Z)\n",
    "scaler = StandardScaler()\n",
    "Z_II = pd.DataFrame(scaler.fit_transform(Z_II), columns=Z.columns)"
   ]
  },
  {
   "cell_type": "code",
   "execution_count": 8,
   "metadata": {},
   "outputs": [],
   "source": [
    "# Store the data in public_procurement_data.pkl\n",
    "public_procurement_data = {'Z_MI': Z_MI,\n",
    "                     'Z_MF': Z_MF,\n",
    "                     'Z_II': Z_II,\n",
    "                     'Omega': Omega,\n",
    "                     'Y': Y}\n",
    "\n",
    "with open(\"C:/Users/marti/Desktop/DNN_missing_data/public_procurement/public_procurement_data.pkl\", \"wb\") as f:\n",
    "    pickle.dump(public_procurement_data, f)"
   ]
  }
 ],
 "metadata": {
  "kernelspec": {
   "display_name": "Python 3",
   "language": "python",
   "name": "python3"
  },
  "language_info": {
   "codemirror_mode": {
    "name": "ipython",
    "version": 3
   },
   "file_extension": ".py",
   "mimetype": "text/x-python",
   "name": "python",
   "nbconvert_exporter": "python",
   "pygments_lexer": "ipython3",
   "version": "3.13.2"
  }
 },
 "nbformat": 4,
 "nbformat_minor": 2
}
